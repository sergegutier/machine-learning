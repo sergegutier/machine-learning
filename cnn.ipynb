{
  "nbformat": 4,
  "nbformat_minor": 0,
  "metadata": {
    "colab": {
      "name": "cnn.ipynb",
      "provenance": [],
      "mount_file_id": "1jixL3mGdv1kgjRkJyRlwnu8Vmx2e7X9b",
      "authorship_tag": "ABX9TyNs8T0ZDxFzWGWrjU8ROqgy",
      "include_colab_link": true
    },
    "kernelspec": {
      "name": "python3",
      "display_name": "Python 3"
    },
    "accelerator": "TPU"
  },
  "cells": [
    {
      "cell_type": "markdown",
      "metadata": {
        "id": "view-in-github",
        "colab_type": "text"
      },
      "source": [
        "<a href=\"https://colab.research.google.com/github/sergegutier/machine-learning/blob/master/cnn.ipynb\" target=\"_parent\"><img src=\"https://colab.research.google.com/assets/colab-badge.svg\" alt=\"Open In Colab\"/></a>"
      ]
    },
    {
      "cell_type": "markdown",
      "metadata": {
        "id": "mKcMehBtRvfC",
        "colab_type": "text"
      },
      "source": [
        "#**Convolutional Neural Networks - Image Classifier**"
      ]
    },
    {
      "cell_type": "code",
      "metadata": {
        "id": "yRWZqJh_WRtX",
        "colab_type": "code",
        "colab": {}
      },
      "source": [
        "!pip install tensorflow==1.14.0"
      ],
      "execution_count": 0,
      "outputs": []
    },
    {
      "cell_type": "markdown",
      "metadata": {
        "id": "ON70Sv-NO-ms",
        "colab_type": "text"
      },
      "source": [
        "Preprocessing - We must set the working directory with Google Drive"
      ]
    },
    {
      "cell_type": "code",
      "metadata": {
        "id": "5234F0lcPPVR",
        "colab_type": "code",
        "colab": {}
      },
      "source": [
        "#Mount Drive to Colab\n",
        "\n",
        "from google.colab import drive \n",
        "drive.mount('/content/gdrive')"
      ],
      "execution_count": 0,
      "outputs": []
    },
    {
      "cell_type": "code",
      "metadata": {
        "id": "_H0Jqot7PipQ",
        "colab_type": "code",
        "colab": {}
      },
      "source": [
        "import os\n",
        "os.chdir(\"/content/gdrive/My Drive/Colab Notebooks/dataset\") \n",
        "os.getcwd()"
      ],
      "execution_count": 0,
      "outputs": []
    },
    {
      "cell_type": "markdown",
      "metadata": {
        "id": "iyYuPXWYUYwx",
        "colab_type": "text"
      },
      "source": [
        "## Part I - Building the CNN"
      ]
    },
    {
      "cell_type": "code",
      "metadata": {
        "id": "sICyzVm7VXbD",
        "colab_type": "code",
        "colab": {}
      },
      "source": [
        "from keras.models import Sequential # Makes the ANN to initalize NN\n",
        "from keras.layers import Convolution2D # Adds convolutional layers - 2D is for images\n",
        "from keras.layers import MaxPooling2D # Adds pooling layers\n",
        "from keras.layers import Flatten #Convert pooled maps into flattened feature vector\n",
        "from keras.layers import Dense # Adds the fully connected layers in ANN"
      ],
      "execution_count": 0,
      "outputs": []
    },
    {
      "cell_type": "markdown",
      "metadata": {
        "id": "w3CfUvexVeeX",
        "colab_type": "text"
      },
      "source": [
        "Intialize the CNN"
      ]
    },
    {
      "cell_type": "code",
      "metadata": {
        "id": "pOcM7k1wVdif",
        "colab_type": "code",
        "colab": {}
      },
      "source": [
        "classifier = Sequential() # Since we classify images, we use classifier as a name"
      ],
      "execution_count": 0,
      "outputs": []
    },
    {
      "cell_type": "markdown",
      "metadata": {
        "id": "EhGwWXbbZPj6",
        "colab_type": "text"
      },
      "source": [
        "Step 1 - Convolution"
      ]
    },
    {
      "cell_type": "code",
      "metadata": {
        "id": "LDf9CDqOZSnc",
        "colab_type": "code",
        "colab": {}
      },
      "source": [
        "classifier.add(Convolution2D(32,3,3, input_shape = (64,64,3), activation='relu')) # #32 feature detectors, of 3x3 measures; for input-shape, we used 3 channels (RGB) and 64x64 - parameters are inverted in tensorflow"
      ],
      "execution_count": 0,
      "outputs": []
    },
    {
      "cell_type": "markdown",
      "metadata": {
        "id": "V5hfdobnZvZt",
        "colab_type": "text"
      },
      "source": [
        "Step 2 - Pooling"
      ]
    },
    {
      "cell_type": "code",
      "metadata": {
        "id": "046uHOoyZ4I5",
        "colab_type": "code",
        "colab": {}
      },
      "source": [
        "classifier.add(MaxPooling2D(pool_size=(2,2)))"
      ],
      "execution_count": 0,
      "outputs": []
    },
    {
      "cell_type": "markdown",
      "metadata": {
        "id": "vRo4KlxMbeVm",
        "colab_type": "text"
      },
      "source": [
        "Note : We are adding a *second* convolutional layer, after we decided to improve upon 76% accuracy"
      ]
    },
    {
      "cell_type": "code",
      "metadata": {
        "id": "2qbqnU43bSNW",
        "colab_type": "code",
        "colab": {}
      },
      "source": [
        "classifier.add(Convolution2D(32,3,3, activation='relu')) # we removed input_shape because we are not working with images in this step, but rather already pooled features \n",
        "classifier.add(MaxPooling2D(pool_size=(2,2)))"
      ],
      "execution_count": 0,
      "outputs": []
    },
    {
      "cell_type": "markdown",
      "metadata": {
        "id": "4c5Z6didaBjU",
        "colab_type": "text"
      },
      "source": [
        "Step 3 - Flattening"
      ]
    },
    {
      "cell_type": "code",
      "metadata": {
        "id": "zhR8QNphaDmK",
        "colab_type": "code",
        "colab": {}
      },
      "source": [
        "classifier.add(Flatten())"
      ],
      "execution_count": 0,
      "outputs": []
    },
    {
      "cell_type": "markdown",
      "metadata": {
        "id": "XmqLZZBqaKkr",
        "colab_type": "text"
      },
      "source": [
        "Step 4 - Full Connection"
      ]
    },
    {
      "cell_type": "code",
      "metadata": {
        "id": "5g1f9McWaNQm",
        "colab_type": "code",
        "colab": {}
      },
      "source": [
        "classifier.add(Dense(output_dim = 128, activation='relu'))\n",
        "classifier.add(Dense(output_dim = 1, activation = 'sigmoid'))"
      ],
      "execution_count": 0,
      "outputs": []
    },
    {
      "cell_type": "markdown",
      "metadata": {
        "id": "fufteZXsa-fQ",
        "colab_type": "text"
      },
      "source": [
        "Step 5 - Compile CNN"
      ]
    },
    {
      "cell_type": "code",
      "metadata": {
        "id": "wSxDOiA2bAbZ",
        "colab_type": "code",
        "colab": {}
      },
      "source": [
        "classifier.compile(optimizer = 'adam', loss = 'binary_crossentropy', metrics=['accuracy'])"
      ],
      "execution_count": 0,
      "outputs": []
    },
    {
      "cell_type": "markdown",
      "metadata": {
        "id": "-fOrhd2IbeNP",
        "colab_type": "text"
      },
      "source": [
        "## Part II - Fitting CNN to Images"
      ]
    },
    {
      "cell_type": "code",
      "metadata": {
        "id": "epM7cOCXbgrn",
        "colab_type": "code",
        "colab": {}
      },
      "source": [
        "from keras.preprocessing.image import ImageDataGenerator\n",
        "\n",
        "train_datagen = ImageDataGenerator(\n",
        "        rescale=1./255,\n",
        "        shear_range=0.2,\n",
        "        zoom_range=0.2,\n",
        "        horizontal_flip=True)"
      ],
      "execution_count": 0,
      "outputs": []
    },
    {
      "cell_type": "code",
      "metadata": {
        "id": "_gfD310eMUsT",
        "colab_type": "code",
        "colab": {}
      },
      "source": [
        "test_datagen = ImageDataGenerator(rescale=1./255)\n",
        "\n",
        "training_set = train_datagen.flow_from_directory(\n",
        "        'training_set',\n",
        "        target_size=(64, 64),\n",
        "        batch_size=32,\n",
        "        class_mode='binary')\n",
        "test_set = test_datagen.flow_from_directory(\n",
        "        'test_set',\n",
        "        target_size=(64, 64),\n",
        "        batch_size=32,\n",
        "        class_mode='binary')"
      ],
      "execution_count": 0,
      "outputs": []
    },
    {
      "cell_type": "code",
      "metadata": {
        "id": "31KIx49kQSHF",
        "colab_type": "code",
        "colab": {}
      },
      "source": [
        "classifier.fit_generator(\n",
        "        training_set,\n",
        "        samples_per_epoch=8000,\n",
        "        nb_epoch=25,\n",
        "        validation_data=test_set,\n",
        "        nb_val_samples=2000)\n"
      ],
      "execution_count": 0,
      "outputs": []
    },
    {
      "cell_type": "markdown",
      "metadata": {
        "id": "Xh2trIkQ9zsE",
        "colab_type": "text"
      },
      "source": [
        "## Part III - Making a Single Prediction"
      ]
    },
    {
      "cell_type": "markdown",
      "metadata": {
        "id": "YBK8F29nV3Jk",
        "colab_type": "text"
      },
      "source": [
        "Step 1 - We load the image and convert it to an array "
      ]
    },
    {
      "cell_type": "code",
      "metadata": {
        "id": "0x2P9_eV8Wi1",
        "colab_type": "code",
        "colab": {}
      },
      "source": [
        "import numpy as np\n",
        "from keras.preprocessing import image\n",
        "\n",
        "os.chdir(\"/content/gdrive/My Drive/Colab Notebooks/dataset/single_prediction\") # for now, we have to readjust the directory\n",
        "os.getcwd()\n",
        "\n",
        "test_image = image.load_img('teeny1.jpg',target_size=(64,64)) #We load the image\n",
        "\n",
        "test_image = image.img_to_array(test_image)\n",
        "\n",
        "test_image = np.expand_dims(test_image, axis = 0) # we have to add another dimension so we can predict. The predict method does it by multiple batches\n",
        "\n",
        "result = classifier.predict(test_image) # we store the binary result in this variable"
      ],
      "execution_count": 0,
      "outputs": []
    },
    {
      "cell_type": "markdown",
      "metadata": {
        "id": "XG8W_uO7V_Ga",
        "colab_type": "text"
      },
      "source": [
        "Step 2 - Determine wether '1' result is for dog or cat"
      ]
    },
    {
      "cell_type": "code",
      "metadata": {
        "id": "PUH7ki8zWKTL",
        "colab_type": "code",
        "colab": {}
      },
      "source": [
        "training_set.class_indices # this prints : cats = 0, dogs = 1\n",
        "\n",
        "if result [0][0] == 1:\n",
        "  prediction = 'Dog'\n",
        "else :\n",
        "  prediction = 'Cat'\n",
        "\n",
        "  print(\"This is a \"+prediction)"
      ],
      "execution_count": 0,
      "outputs": []
    }
  ]
}